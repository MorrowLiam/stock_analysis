{
  "cells": [
    {
      "cell_type": "code",
      "source": [
        "#required imports\n",
        "import pandas as pd\n",
        "import pandas_datareader as wb\n",
        "#function to pull multiple stocks into several dataframes from yahoo.\n",
        "def stock_retrieval(tickers,start_date,end_date):\n",
        "    #remove commas\n",
        "    #should add in a check for unique, remove spaces, and check to see if these are needed\n",
        "    tickers = tickers.split(',')\n",
        "    #create a dictionary to sort the dataframes\n",
        "    d = {}\n",
        "    for tickers in tickers:\n",
        "        d[tickers] = pd.DataFrame()\n",
        "        d[tickers] = wb.DataReader(tickers, data_source='yahoo', start=(start_date), end=(end_date))\n",
        "    return d\n",
        "\n",
        "\n",
        "#required input\n",
        "tickers = 'PG,MSFT,F,GE'\n",
        "start_date = '2012-01-01'\n",
        "end_date = '2017-01-01'\n",
        "\n",
        "#call for stock information.\n",
        "stock_df = stock_retrieval(tickers, start_date, end_date)\n",
        "#stock list\n",
        "stock_df[1]\n",
        "#dataframes\n",
        "stock_df[0]\n",
        "tickers"
      ],
      "outputs": [],
      "execution_count": null,
      "metadata": {
        "collapsed": true,
        "outputExpanded": false,
        "jupyter": {
          "source_hidden": false,
          "outputs_hidden": false
        },
        "nteract": {
          "transient": {
            "deleting": false
          }
        }
      }
    }
  ],
  "metadata": {},
  "nbformat": 4,
  "nbformat_minor": 0
}