{
 "cells": [
  {
   "cell_type": "markdown",
   "metadata": {},
   "source": [
    "# Simple Fetch (Yahoo) "
   ]
  },
  {
   "cell_type": "markdown",
   "metadata": {},
   "source": [
    "Multpiple Df in a Dictionary"
   ]
  },
  {
   "cell_type": "code",
   "execution_count": 9,
   "metadata": {
    "jupyter": {
     "outputs_hidden": false,
     "source_hidden": false
    },
    "nteract": {
     "transient": {
      "deleting": false
     }
    },
    "outputExpanded": false
   },
   "outputs": [],
   "source": [
    "#required imports\n",
    "import pandas as pd\n",
    "import pandas_datareader as wb\n",
    "\n",
    "#function to pull multiple stocks into several dataframes from yahoo.\n",
    "def stock_fetch(tickers,start_date,end_date):\n",
    "    #remove commas\n",
    "    #should add in a check for unique, remove spaces, and check to see if these are needed\n",
    "    tickers = tickers.split(',')\n",
    "    #create a dictionary to sort the dataframes\n",
    "    d = {}\n",
    "    for tickers in tickers:\n",
    "        d[tickers] = pd.DataFrame()\n",
    "        d[tickers] = wb.DataReader(tickers, data_source='yahoo', start=(start_date), end=(end_date))\n",
    "    return d\n",
    "\n",
    "#Sample Required Input\n",
    "tickers = 'PG,MSFT,F,GE'\n",
    "start_date = '2012-01-01'\n",
    "end_date = '2017-01-01'\n",
    "\n",
    "#call for stock information.\n",
    "stock_df = stock_fetch(tickers, start_date, end_date)\n",
    "#stock list\n",
    "stock_df.keys()\n",
    "#dataframes\n",
    "for t in stock_df.keys():\n",
    "    print(stock_df[t])"
   ]
  }
 ],
 "metadata": {
  "kernelspec": {
   "display_name": "Python 3",
   "language": "python",
   "name": "python3"
  },
  "language_info": {
   "codemirror_mode": {
    "name": "ipython",
    "version": 3
   },
   "file_extension": ".py",
   "mimetype": "text/x-python",
   "name": "python",
   "nbconvert_exporter": "python",
   "pygments_lexer": "ipython3",
   "version": "3.7.6"
  }
 },
 "nbformat": 4,
 "nbformat_minor": 1
}
